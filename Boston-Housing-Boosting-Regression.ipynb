{
  "cells": [
    {
      "cell_type": "markdown",
      "id": "73f473a8",
      "metadata": {},
      "source": [
        "<a href=\"https://colab.research.google.com/github/ernanhughes/boosting-examples/blob/main/Boston-Housing-Boosting-Regression.ipynb\" target=\"_parent\"><img src=\"https://colab.research.google.com/assets/colab-badge.svg\" alt=\"Open In Colab\"/></a>"
      ]
    },
    {
      "cell_type": "markdown",
      "id": "18d056a9",
      "metadata": {
        "id": "18d056a9"
      },
      "source": [
        "# Boosting\n",
        "\n",
        "In this notebook, I will implement a simple Boosting ensemble. We will work through the Boston House Prices regression dataset."
      ]
    },
    {
      "cell_type": "code",
      "execution_count": 2,
      "id": "c9af0c0e",
      "metadata": {
        "id": "c9af0c0e"
      },
      "outputs": [],
      "source": [
        "## imports ##\n",
        "import numpy as np\n",
        "import pandas as pd\n",
        "from typing import Dict, Any, List\n",
        "from sklearn.base import clone\n",
        "import matplotlib.pyplot as plt\n",
        "from sklearn.model_selection import StratifiedKFold,cross_validate\n",
        "from sklearn.tree import DecisionTreeRegressor\n",
        "from sklearn.metrics import mean_absolute_error,mean_squared_error,r2_score,make_scorer"
      ]
    },
    {
      "cell_type": "markdown",
      "id": "079f643c",
      "metadata": {
        "id": "079f643c"
      },
      "source": [
        "We can now create the class that will encapsulate the boosting algorithm:"
      ]
    },
    {
      "cell_type": "code",
      "execution_count": 3,
      "id": "c11d57f5",
      "metadata": {
        "id": "c11d57f5"
      },
      "outputs": [],
      "source": [
        "## boosting regressor ##\n",
        "class BoostingRegressor(object):\n",
        "    #initializer\n",
        "    def __init__(self, weak_learner : Any, n_elements : int = 100, learning_rate : float = 0.01) -> None:\n",
        "        self.weak_learner  = weak_learner\n",
        "        self.n_elements    = n_elements\n",
        "        self.learning_rate = learning_rate\n",
        "        self.f             = []\n",
        "        self.residuals     = []\n",
        "\n",
        "    #destructor\n",
        "    def __del__(self) -> None:\n",
        "        del self.weak_learner\n",
        "        del self.n_elements\n",
        "        del self.learning_rate\n",
        "        del self.f\n",
        "        del self.residuals\n",
        "\n",
        "    #public function to return model parameters\n",
        "    def get_params(self, deep : bool = False) -> Dict:\n",
        "        return {'weak_learner':self.weak_learner,'n_elements':self.n_elements,'learning_rate':self.learning_rate}\n",
        "\n",
        "    #public function to train the ensemble\n",
        "    def fit(self, X_train : np.array, y_train : np.array) -> None:\n",
        "        #initialize residuals\n",
        "        r = np.copy(y_train).astype(float)\n",
        "        #loop through the specified number of iterations in the ensemble\n",
        "        for _ in range(self.n_elements):\n",
        "            #make a copy of the weak learner\n",
        "            model = clone(self.weak_learner)\n",
        "            #fit the weak learner on the current dataset\n",
        "            model.fit(X_train,r)\n",
        "            #update the residuals\n",
        "            r -= self.learning_rate*model.predict(X_train)\n",
        "            #append resulting model\n",
        "            self.f.append(model)\n",
        "            #append current mean residual\n",
        "            self.residuals.append(np.mean(r))\n",
        "\n",
        "    #public function to return residuals\n",
        "    def get_residuals(self) -> List:\n",
        "        return(self.residuals)\n",
        "\n",
        "    #public function to generate predictions\n",
        "    def predict(self, X_test : np.array) -> np.array:\n",
        "        #initialize output\n",
        "        y_pred = np.zeros((X_test.shape[0]))\n",
        "        #traverse ensemble to generate predictions\n",
        "        for model in self.f:\n",
        "            y_pred += self.learning_rate*model.predict(X_test)\n",
        "        #return predictions\n",
        "        return(y_pred)"
      ]
    },
    {
      "cell_type": "markdown",
      "id": "146b2f74",
      "metadata": {
        "id": "146b2f74"
      },
      "source": [
        "## Boosting Regression\n",
        "\n",
        "### Load Regression Dataset\n",
        "\n",
        "Here I'll load the boston house prices dataset. Note I already analysed these data in Article VI - Random Forest."
      ]
    },
    {
      "cell_type": "code",
      "execution_count": 5,
      "id": "30ba2900",
      "metadata": {
        "id": "30ba2900"
      },
      "outputs": [],
      "source": [
        "from sklearn.datasets import fetch_openml \n",
        "boston = fetch_openml(data_id=506) \n",
        "\n",
        "## load classification dataset ##\n",
        "X    = boston.data\n",
        "y    = boston.target"
      ]
    },
    {
      "cell_type": "markdown",
      "id": "6e07ebac",
      "metadata": {
        "id": "6e07ebac"
      },
      "source": [
        "### Investigate Residuals\n",
        "\n",
        "In this section I want to check that the residuals converge. I will also setup the weak learner, which in our case will be a regression decision stump:"
      ]
    },
    {
      "cell_type": "code",
      "execution_count": 6,
      "id": "447d7fca",
      "metadata": {
        "id": "447d7fca"
      },
      "outputs": [],
      "source": [
        "## initialize a weak learner ##\n",
        "weak_m = DecisionTreeRegressor(max_depth=1)"
      ]
    },
    {
      "cell_type": "code",
      "execution_count": 7,
      "id": "e6bc6b1d",
      "metadata": {
        "id": "e6bc6b1d"
      },
      "outputs": [],
      "source": [
        "## set the learning rates to try ##\n",
        "learning_rates = [0.1,0.01,0.001,0.0001]"
      ]
    },
    {
      "cell_type": "code",
      "execution_count": 8,
      "id": "6679d6b3",
      "metadata": {
        "id": "6679d6b3"
      },
      "outputs": [],
      "source": [
        "## loop through the learning rates, record residuals ##\n",
        "dfRes = pd.DataFrame()\n",
        "for lr in learning_rates:\n",
        "\n",
        "    #declare a boosting regressor\n",
        "    rgr = BoostingRegressor(weak_learner=weak_m, n_elements=1000, learning_rate=lr)\n",
        "\n",
        "    #fit the model\n",
        "    rgr.fit(X,y)\n",
        "\n",
        "    #record residuals\n",
        "    dfRes[str(lr)] = rgr.get_residuals()"
      ]
    },
    {
      "cell_type": "code",
      "execution_count": 9,
      "id": "cab5afed",
      "metadata": {
        "id": "cab5afed",
        "outputId": "45b1a65d-048f-44da-eae5-62bc3b0c5bb7"
      },
      "outputs": [
        {
          "data": {
            "image/png": "[encoded data removed]",
            "text/plain": [
              "<Figure size 640x480 with 1 Axes>"
            ]
          },
          "metadata": {},
          "output_type": "display_data"
        }
      ],
      "source": [
        "## plot the residuals ##\n",
        "dfRes.plot()\n",
        "plt.title('Residuals by Number of Component Trees in Boosting Ensemble')\n",
        "plt.xlabel('Number of Component Trees')\n",
        "plt.ylabel('Mean Residual')\n",
        "plt.show()"
      ]
    },
    {
      "cell_type": "markdown",
      "id": "fecc5427",
      "metadata": {
        "id": "fecc5427"
      },
      "source": [
        "We can see the residuals converge towards 0 as we progress through the ensemble. This convergence is faster for larger learning rates.\n",
        "\n",
        "### Investigate Performance\n",
        "\n",
        "Here I will use 10-fold cross-validation to measure the performance of the boosting regressor:"
      ]
    },
    {
      "cell_type": "code",
      "execution_count": 10,
      "id": "cd1c38e3",
      "metadata": {
        "id": "cd1c38e3"
      },
      "outputs": [],
      "source": [
        "## define the scoring metrics ##\n",
        "scoring_metrics = {'mae': make_scorer(mean_absolute_error),\n",
        "                   'mse': make_scorer(mean_squared_error),\n",
        "                   'r2': make_scorer(r2_score)}"
      ]
    },
    {
      "cell_type": "code",
      "execution_count": 11,
      "id": "a611ef3d",
      "metadata": {
        "id": "a611ef3d",
        "outputId": "69b9878f-b7a0-4c2f-a4ca-d67f5ae6954f"
      },
      "outputs": [
        {
          "name": "stdout",
          "output_type": "stream",
          "text": [
            "Learning Rate:  0.1\n",
            "Mean MAE: 0.60\n",
            "Mean MSE: 0.76\n",
            "Mean R2: -1.43\n",
            "\n",
            "Learning Rate:  0.01\n",
            "Mean MAE: 0.52\n",
            "Mean MSE: 0.59\n",
            "Mean R2: -0.59\n",
            "\n",
            "Learning Rate:  0.001\n",
            "Mean MAE: 0.44\n",
            "Mean MSE: 0.57\n",
            "Mean R2: -0.15\n",
            "\n",
            "Learning Rate:  0.0001\n",
            "Mean MAE: 0.35\n",
            "Mean MSE: 0.66\n",
            "Mean R2: -0.21\n",
            "\n"
          ]
        }
      ],
      "source": [
        "## loop through each learning rate & evaluate for n_elements=1000 ##\n",
        "for lr in learning_rates:\n",
        "    #define the model\n",
        "    rgr = BoostingRegressor(weak_learner=weak_m, n_elements=1000, learning_rate=lr)\n",
        "    #cross validate\n",
        "    dcScores = cross_validate(rgr,X,y,cv=10,scoring=scoring_metrics)\n",
        "    #report results\n",
        "    print('Learning Rate: ',lr)\n",
        "    print('Mean MAE: %.2f' % np.mean(dcScores['test_mae']))\n",
        "    print('Mean MSE: %.2f' % np.mean(dcScores['test_mse']))\n",
        "    print('Mean R2: %.2f' % np.mean(dcScores['test_r2']))\n",
        "    print('')"
      ]
    },
    {
      "cell_type": "code",
      "execution_count": 12,
      "id": "f4a29316",
      "metadata": {
        "id": "f4a29316",
        "outputId": "138f4a6a-2971-45d5-98e8-2922aeae52c6"
      },
      "outputs": [
        {
          "name": "stdout",
          "output_type": "stream",
          "text": [
            "Learning Rate:  0.1\n",
            "Mean MAE: 0.79\n",
            "Mean MSE: 1.20\n",
            "Mean R2: -3.48\n",
            "\n",
            "Learning Rate:  0.01\n",
            "Mean MAE: 0.60\n",
            "Mean MSE: 0.75\n",
            "Mean R2: -1.40\n",
            "\n",
            "Learning Rate:  0.001\n",
            "Mean MAE: 0.52\n",
            "Mean MSE: 0.59\n",
            "Mean R2: -0.59\n",
            "\n",
            "Learning Rate:  0.0001\n",
            "Mean MAE: 0.44\n",
            "Mean MSE: 0.57\n",
            "Mean R2: -0.15\n",
            "\n"
          ]
        }
      ],
      "source": [
        "## loop through each learning rate & evaluate for n_elements=10000 ##\n",
        "for lr in learning_rates:\n",
        "    #define the model\n",
        "    rgr = BoostingRegressor(weak_learner=weak_m, n_elements=10000, learning_rate=lr)\n",
        "    #cross validate\n",
        "    dcScores = cross_validate(rgr,X,y,cv=10,scoring=scoring_metrics)\n",
        "    #report results\n",
        "    print('Learning Rate: ',lr)\n",
        "    print('Mean MAE: %.2f' % np.mean(dcScores['test_mae']))\n",
        "    print('Mean MSE: %.2f' % np.mean(dcScores['test_mse']))\n",
        "    print('Mean R2: %.2f' % np.mean(dcScores['test_r2']))\n",
        "    print('')"
      ]
    },
    {
      "cell_type": "markdown",
      "id": "34721628",
      "metadata": {
        "id": "34721628"
      },
      "source": [
        "Finally, let's compare these results to those we can obtain by using just the decision tree stump:"
      ]
    },
    {
      "cell_type": "code",
      "execution_count": null,
      "id": "afe2ca21",
      "metadata": {
        "id": "afe2ca21",
        "outputId": "5b4adf12-f291-4861-8ab4-cd146f743623"
      },
      "outputs": [
        {
          "name": "stdout",
          "output_type": "stream",
          "text": [
            "Mean MAE: 6.34\n",
            "Mean MSE: 70.54\n",
            "Mean R2: -0.85\n"
          ]
        }
      ],
      "source": [
        "#cross validate\n",
        "dcScores = cross_validate(weak_m,X,y,cv=10,scoring=scoring_metrics)\n",
        "#report results\n",
        "print('Mean MAE: %.2f' % np.mean(dcScores['test_mae']))\n",
        "print('Mean MSE: %.2f' % np.mean(dcScores['test_mse']))\n",
        "print('Mean R2: %.2f' % np.mean(dcScores['test_r2']))"
      ]
    },
    {
      "cell_type": "markdown",
      "id": "e938890c",
      "metadata": {
        "id": "e938890c"
      },
      "source": [
        "Model | Learning Rate | Number of Elements | MAE | MSE | R2\n",
        "--- | --- | --- | --- | --- | ---\n",
        "Boosting Regressor | 0.1 | 1000 | 3.02 | 20.08 | 0.48\n",
        "Boosting Regressor | 0.01 | 1000 | 3.16 | 21.63 | 0.52\n",
        "Boosting Regressor | 0.001 | 1000 | 8.75 | 116.08 | -1.79\n",
        "Boosting Regressor | 0.0001 | 1000 | 20.31 | 491.88 | -14.08\n",
        "Boosting Regressor | 0.1 | 10000 | 3.30 | 23.75 | 0.34\n",
        "Boosting Regressor | 0.01 | 10000 | 3.03 | 20.26 | 0.48\n",
        "Boosting Regressor | 0.001 | 10000 | 3.15 | 21.63 | 0.52\n",
        "Boosting Regressor | 0.0001 | 10000 | 8.75 | 116.15 | -1.79\n",
        "Decision Tree Stump | NA | NA | 6.34 | 70.54 | -0.85\n",
        "Scikit-Learn Random Forest | NA | NA | 3.01 | 20.10 | 0.55\n",
        "\n",
        "The optimal boosting regressor tested is the one with the largest learning rate (0.1) and smallest number of elements (1000). The performance of this specific model is similar to that seen with the scikit-learn random forest regressor (See article on Random Forest). Notice the individual decision tree stump is also included in this comparision. The choice of learning rate and number of elements in the ensemble is very important, and it is apparent these parameters need to be balanced off each other."
      ]
    },
    {
      "cell_type": "code",
      "execution_count": null,
      "id": "f327291e",
      "metadata": {
        "id": "f327291e"
      },
      "outputs": [],
      "source": []
    }
  ],
  "metadata": {
    "colab": {
      "provenance": []
    },
    "kernelspec": {
      "display_name": "Python 3",
      "language": "python",
      "name": "python3"
    },
    "language_info": {
      "codemirror_mode": {
        "name": "ipython",
        "version": 3
      },
      "file_extension": ".py",
      "mimetype": "text/x-python",
      "name": "python",
      "nbconvert_exporter": "python",
      "pygments_lexer": "ipython3",
      "version": "3.11.9"
    }
  },
  "nbformat": 4,
  "nbformat_minor": 5
}
