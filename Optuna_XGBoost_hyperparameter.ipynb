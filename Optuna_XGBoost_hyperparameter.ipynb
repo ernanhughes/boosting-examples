{
  "cells": [
    {
      "cell_type": "markdown",
      "metadata": {
        "colab_type": "text",
        "id": "view-in-github"
      },
      "source": [
        "<a href=\"https://colab.research.google.com/github/ernanhughes/boosting-examples/blob/main/Optuna_XGBoost_hyperparameter.ipynb\" target=\"_parent\"><img src=\"https://colab.research.google.com/assets/colab-badge.svg\" alt=\"Open In Colab\"/></a>"
      ]
    },
    {
      "cell_type": "code",
      "execution_count": 1,
      "metadata": {
        "_cell_guid": "79c7e3d0-c299-4dcb-8224-4455121ee9b0",
        "_uuid": "d629ff2d2480ee46fbb7e2d37f6b5fab8052498a",
        "id": "G47aKf0C4rU4",
        "trusted": true
      },
      "outputs": [],
      "source": [
        "# imporing all the necessary modules\n",
        "import pandas as pd\n",
        "import sklearn\n",
        "import numpy as np\n",
        "import seaborn as sns\n",
        "import matplotlib.pyplot as plt\n",
        "sns.set()\n",
        "%config InlineBackend.figure_format = 'retina'\n",
        "import warnings\n",
        "warnings.filterwarnings(\"ignore\")"
      ]
    },
    {
      "cell_type": "code",
      "execution_count": 2,
      "metadata": {
        "colab": {
          "base_uri": "https://localhost:8080/",
          "height": 1000
        },
        "id": "HEKJb7Qu4rU6",
        "outputId": "1c89d0f3-4559-4509-f687-098f27c77f0a",
        "trusted": true
      },
      "outputs": [
        {
          "ename": "ImportError",
          "evalue": "\n`load_boston` has been removed from scikit-learn since version 1.2.\n\nThe Boston housing prices dataset has an ethical problem: as\ninvestigated in [1], the authors of this dataset engineered a\nnon-invertible variable \"B\" assuming that racial self-segregation had a\npositive impact on house prices [2]. Furthermore the goal of the\nresearch that led to the creation of this dataset was to study the\nimpact of air quality but it did not give adequate demonstration of the\nvalidity of this assumption.\n\nThe scikit-learn maintainers therefore strongly discourage the use of\nthis dataset unless the purpose of the code is to study and educate\nabout ethical issues in data science and machine learning.\n\nIn this special case, you can fetch the dataset from the original\nsource::\n\n    import pandas as pd\n    import numpy as np\n\n    data_url = \"http://lib.stat.cmu.edu/datasets/boston\"\n    raw_df = pd.read_csv(data_url, sep=\"\\s+\", skiprows=22, header=None)\n    data = np.hstack([raw_df.values[::2, :], raw_df.values[1::2, :2]])\n    target = raw_df.values[1::2, 2]\n\nAlternative datasets include the California housing dataset and the\nAmes housing dataset. You can load the datasets as follows::\n\n    from sklearn.datasets import fetch_california_housing\n    housing = fetch_california_housing()\n\nfor the California housing dataset and::\n\n    from sklearn.datasets import fetch_openml\n    housing = fetch_openml(name=\"house_prices\", as_frame=True)\n\nfor the Ames housing dataset.\n\n[1] M Carlisle.\n\"Racist data destruction?\"\n<https://medium.com/@docintangible/racist-data-destruction-113e3eff54a8>\n\n[2] Harrison Jr, David, and Daniel L. Rubinfeld.\n\"Hedonic housing prices and the demand for clean air.\"\nJournal of environmental economics and management 5.1 (1978): 81-102.\n<https://www.researchgate.net/publication/4974606_Hedonic_housing_prices_and_the_demand_for_clean_air>\n",
          "output_type": "error",
          "traceback": [
            "\u001b[0;31m---------------------------------------------------------------------------\u001b[0m",
            "\u001b[0;31mImportError\u001b[0m                               Traceback (most recent call last)",
            "\u001b[0;32m<ipython-input-2-36b900f37944>\u001b[0m in \u001b[0;36m<cell line: 3>\u001b[0;34m()\u001b[0m\n\u001b[1;32m      1\u001b[0m \u001b[0;31m# loading the boston dataset\u001b[0m\u001b[0;34m\u001b[0m\u001b[0;34m\u001b[0m\u001b[0m\n\u001b[1;32m      2\u001b[0m \u001b[0;34m\u001b[0m\u001b[0m\n\u001b[0;32m----> 3\u001b[0;31m \u001b[0;32mfrom\u001b[0m \u001b[0msklearn\u001b[0m\u001b[0;34m.\u001b[0m\u001b[0mdatasets\u001b[0m \u001b[0;32mimport\u001b[0m \u001b[0mload_boston\u001b[0m\u001b[0;34m\u001b[0m\u001b[0;34m\u001b[0m\u001b[0m\n\u001b[0m\u001b[1;32m      4\u001b[0m \u001b[0mboston\u001b[0m \u001b[0;34m=\u001b[0m \u001b[0mload_boston\u001b[0m\u001b[0;34m(\u001b[0m\u001b[0;34m)\u001b[0m\u001b[0;34m\u001b[0m\u001b[0;34m\u001b[0m\u001b[0m\n",
            "\u001b[0;32m/usr/local/lib/python3.10/dist-packages/sklearn/datasets/__init__.py\u001b[0m in \u001b[0;36m__getattr__\u001b[0;34m(name)\u001b[0m\n\u001b[1;32m    155\u001b[0m             \u001b[0;34m<\u001b[0m\u001b[0mhttps\u001b[0m\u001b[0;34m:\u001b[0m\u001b[0;34m//\u001b[0m\u001b[0mwww\u001b[0m\u001b[0;34m.\u001b[0m\u001b[0mresearchgate\u001b[0m\u001b[0;34m.\u001b[0m\u001b[0mnet\u001b[0m\u001b[0;34m/\u001b[0m\u001b[0mpublication\u001b[0m\u001b[0;34m/\u001b[0m\u001b[0;36m4974606\u001b[0m\u001b[0m_Hedonic_housing_prices_and_the_demand_for_clean_air\u001b[0m\u001b[0;34m>\u001b[0m\u001b[0;34m\u001b[0m\u001b[0;34m\u001b[0m\u001b[0m\n\u001b[1;32m    156\u001b[0m             \"\"\")\n\u001b[0;32m--> 157\u001b[0;31m         \u001b[0;32mraise\u001b[0m \u001b[0mImportError\u001b[0m\u001b[0;34m(\u001b[0m\u001b[0mmsg\u001b[0m\u001b[0;34m)\u001b[0m\u001b[0;34m\u001b[0m\u001b[0;34m\u001b[0m\u001b[0m\n\u001b[0m\u001b[1;32m    158\u001b[0m     \u001b[0;32mtry\u001b[0m\u001b[0;34m:\u001b[0m\u001b[0;34m\u001b[0m\u001b[0;34m\u001b[0m\u001b[0m\n\u001b[1;32m    159\u001b[0m         \u001b[0;32mreturn\u001b[0m \u001b[0mglobals\u001b[0m\u001b[0;34m(\u001b[0m\u001b[0;34m)\u001b[0m\u001b[0;34m[\u001b[0m\u001b[0mname\u001b[0m\u001b[0;34m]\u001b[0m\u001b[0;34m\u001b[0m\u001b[0;34m\u001b[0m\u001b[0m\n",
            "\u001b[0;31mImportError\u001b[0m: \n`load_boston` has been removed from scikit-learn since version 1.2.\n\nThe Boston housing prices dataset has an ethical problem: as\ninvestigated in [1], the authors of this dataset engineered a\nnon-invertible variable \"B\" assuming that racial self-segregation had a\npositive impact on house prices [2]. Furthermore the goal of the\nresearch that led to the creation of this dataset was to study the\nimpact of air quality but it did not give adequate demonstration of the\nvalidity of this assumption.\n\nThe scikit-learn maintainers therefore strongly discourage the use of\nthis dataset unless the purpose of the code is to study and educate\nabout ethical issues in data science and machine learning.\n\nIn this special case, you can fetch the dataset from the original\nsource::\n\n    import pandas as pd\n    import numpy as np\n\n    data_url = \"http://lib.stat.cmu.edu/datasets/boston\"\n    raw_df = pd.read_csv(data_url, sep=\"\\s+\", skiprows=22, header=None)\n    data = np.hstack([raw_df.values[::2, :], raw_df.values[1::2, :2]])\n    target = raw_df.values[1::2, 2]\n\nAlternative datasets include the California housing dataset and the\nAmes housing dataset. You can load the datasets as follows::\n\n    from sklearn.datasets import fetch_california_housing\n    housing = fetch_california_housing()\n\nfor the California housing dataset and::\n\n    from sklearn.datasets import fetch_openml\n    housing = fetch_openml(name=\"house_prices\", as_frame=True)\n\nfor the Ames housing dataset.\n\n[1] M Carlisle.\n\"Racist data destruction?\"\n<https://medium.com/@docintangible/racist-data-destruction-113e3eff54a8>\n\n[2] Harrison Jr, David, and Daniel L. Rubinfeld.\n\"Hedonic housing prices and the demand for clean air.\"\nJournal of environmental economics and management 5.1 (1978): 81-102.\n<https://www.researchgate.net/publication/4974606_Hedonic_housing_prices_and_the_demand_for_clean_air>\n",
            "",
            "\u001b[0;31m---------------------------------------------------------------------------\u001b[0;32m\nNOTE: If your import is failing due to a missing package, you can\nmanually install dependencies using either !pip or !apt.\n\nTo view examples of installing some common dependencies, click the\n\"Open Examples\" button below.\n\u001b[0;31m---------------------------------------------------------------------------\u001b[0m\n"
          ]
        }
      ],
      "source": [
        "# loading the boston dataset\n",
        "url = \"https://raw.githubusercontent.com/scikit-learn/scikit-learn/main/sklearn/datasets/data/boston_house_prices.csv\"\n",
        "\n",
        "from sklearn.datasets import load_boston\n",
        "boston = load_boston()"
      ]
    },
    {
      "cell_type": "code",
      "execution_count": null,
      "metadata": {
        "id": "-vV389sI4rU6",
        "trusted": true
      },
      "outputs": [],
      "source": [
        "df = pd.DataFrame(boston.data , columns = boston.feature_names)\n",
        "df['target'] = boston.target"
      ]
    },
    {
      "cell_type": "code",
      "execution_count": null,
      "metadata": {
        "id": "iHtvyjoZ4rU6",
        "trusted": true
      },
      "outputs": [],
      "source": [
        "X = df.iloc[:,df.columns != 'target']\n",
        "y = df.target\n",
        "\n",
        "\n",
        "from sklearn.preprocessing import StandardScaler\n",
        "se = StandardScaler()\n",
        "X = se.fit_transform(X)"
      ]
    },
    {
      "cell_type": "code",
      "execution_count": null,
      "metadata": {
        "id": "758VeZ3E4rU6",
        "trusted": true
      },
      "outputs": [],
      "source": [
        "import xgboost as xgb\n",
        "from sklearn.model_selection import train_test_split\n",
        "X_train, X_test, y_train,y_test = train_test_split(X, y, test_size = 0.2, random_state = 12)\n",
        "\n",
        "\n",
        "# we are converting the training and testing data into xgboost optimized matrix for efficiency\n",
        "\n",
        "dtrain = xgb.DMatrix(X_train,y_train)\n",
        "dtest  = xgb.DMatrix(X_test,y_test)\n"
      ]
    },
    {
      "cell_type": "markdown",
      "metadata": {
        "id": "OA-kfhnG4rU7"
      },
      "source": [
        "### Testing a base model"
      ]
    },
    {
      "cell_type": "code",
      "execution_count": null,
      "metadata": {
        "id": "Ci_mL6_g4rU7",
        "trusted": true
      },
      "outputs": [],
      "source": [
        "\n",
        "import xgboost as xgb\n",
        "from sklearn.metrics import mean_squared_error, r2_score\n",
        "from sklearn.model_selection import KFold\n",
        "from sklearn.model_selection import cross_val_score\n",
        "from sklearn.model_selection import ShuffleSplit\n",
        "cv_ = KFold(n_splits=10,random_state=0)\n",
        "\n",
        "xg_reg = xgb.XGBRegressor(\n",
        ")\n",
        "scores = cross_val_score(xg_reg, X_train,y_train , scoring = 'neg_root_mean_squared_error',n_jobs = -1,cv = cv_)\n",
        "print(np.mean(scores), np.std(scores))\n",
        "print(scores)"
      ]
    },
    {
      "cell_type": "markdown",
      "metadata": {
        "id": "epWUQnRR4rU8"
      },
      "source": [
        "#### Creating a scoring funtion with the help of XGBOOST train inbuilt early stopping\n",
        "\n",
        "here we are not tuning the n_estimators with the help of optuna\n",
        "\n",
        "\n",
        "we will tune the n_estimators with the help of early_stopping by using the xgboost.train"
      ]
    },
    {
      "cell_type": "code",
      "execution_count": null,
      "metadata": {
        "id": "BoZk6B3B4rU8",
        "trusted": true
      },
      "outputs": [],
      "source": [
        "\n",
        "# defing a function for scoring and calculation for the rmse (default for regression )\n",
        "# in classification problem auc will be the default\n",
        "import re\n",
        "def return_rmse(params):\n",
        "    model = xgb.train(params , dtrain, num_boost_round = 600, evals = [(dtest, 'eval')],\n",
        "          early_stopping_rounds=20,verbose_eval = 0)\n",
        "    result = model.eval(dtest)\n",
        "    result = np.float(re.search(r'[\\d.]+$',result).group(0))\n",
        "    print(result)\n",
        "    return(result)"
      ]
    },
    {
      "cell_type": "code",
      "execution_count": null,
      "metadata": {
        "id": "P0cx12MY4rU8",
        "trusted": true
      },
      "outputs": [],
      "source": [
        "return_rmse(study.best_params)"
      ]
    },
    {
      "cell_type": "markdown",
      "metadata": {
        "id": "XnmMhOVc4rU8"
      },
      "source": [
        "1. **params are the kwargs"
      ]
    },
    {
      "cell_type": "code",
      "execution_count": null,
      "metadata": {
        "id": "i9KHuNNc4rU8",
        "trusted": true
      },
      "outputs": [],
      "source": [
        "import optuna\n",
        "from optuna import Trial, visualization\n",
        "\n",
        "from optuna.samplers import TPESampler"
      ]
    },
    {
      "cell_type": "code",
      "execution_count": null,
      "metadata": {
        "id": "FkeVV6HW4rU8",
        "trusted": true
      },
      "outputs": [],
      "source": [
        "\n",
        "def objective(trial):\n",
        "\n",
        "    param = {\n",
        "#                 \"n_estimators\" : trial.suggest_int('n_estimators', 0, 500),\n",
        "                'max_depth':trial.suggest_int('max_depth', 3, 5),\n",
        "                'reg_alpha':trial.suggest_uniform('reg_alpha',0,6),\n",
        "                'reg_lambda':trial.suggest_uniform('reg_lambda',0,2),\n",
        "                'min_child_weight':trial.suggest_int('min_child_weight',0,5),\n",
        "                'gamma':trial.suggest_uniform('gamma', 0, 4),\n",
        "                'learning_rate':trial.suggest_loguniform('learning_rate',0.05,0.5),\n",
        "                'colsample_bytree':trial.suggest_uniform('colsample_bytree',0.4,0.9),\n",
        "                'subsample':trial.suggest_uniform('subsample',0.4,0.9),\n",
        "\n",
        "                'nthread' : -1\n",
        "            }\n",
        "    return(return_rmse(param)) # this will return the rmse score\n"
      ]
    },
    {
      "cell_type": "code",
      "execution_count": null,
      "metadata": {
        "id": "7cpaLbly4rU8",
        "trusted": true
      },
      "outputs": [],
      "source": [
        "# calling the optuna study\n",
        "study1 = optuna.create_study(direction='minimize',sampler=TPESampler())\n",
        "study1.optimize(objective, n_trials= 1050,show_progress_bar = True)"
      ]
    },
    {
      "cell_type": "code",
      "execution_count": null,
      "metadata": {
        "id": "r52b9KnY4rU8",
        "trusted": true
      },
      "outputs": [],
      "source": []
    },
    {
      "cell_type": "code",
      "execution_count": null,
      "metadata": {
        "id": "ciFsVpBJ4rU9",
        "trusted": true
      },
      "outputs": [],
      "source": []
    },
    {
      "cell_type": "code",
      "execution_count": null,
      "metadata": {
        "id": "o9RO6C4R4rU9",
        "trusted": true
      },
      "outputs": [],
      "source": [
        "trial = study1.best_trial\n",
        "print('Accuracy: {}'.format(trial.value))"
      ]
    },
    {
      "cell_type": "code",
      "execution_count": null,
      "metadata": {
        "id": "_giZmpvD4rU9",
        "trusted": true
      },
      "outputs": [],
      "source": [
        "### printing the best estimators\n",
        "study1.best_params"
      ]
    },
    {
      "cell_type": "code",
      "execution_count": null,
      "metadata": {
        "id": "8Nn7b2H74rU9",
        "trusted": true
      },
      "outputs": [],
      "source": [
        "\n",
        "# without using any hyperparameter tuning\n",
        "\n",
        "params = {}\n",
        "print(f\"without tuning{return_rmse(params)}\")\n",
        "print(f\"with tuning{return_rmse(study1.best_params)}\")"
      ]
    },
    {
      "cell_type": "markdown",
      "metadata": {
        "id": "8DXiO-K14rU9"
      },
      "source": [
        "## Plotting of our search history"
      ]
    },
    {
      "cell_type": "code",
      "execution_count": null,
      "metadata": {
        "id": "oHTJcAha4rU9",
        "trusted": true
      },
      "outputs": [],
      "source": [
        "optuna.visualization.plot_optimization_history(study1)"
      ]
    },
    {
      "cell_type": "code",
      "execution_count": null,
      "metadata": {
        "id": "XVl38tgf4rU9",
        "trusted": true
      },
      "outputs": [],
      "source": [
        "optuna.visualization.plot_slice(study1)\n"
      ]
    },
    {
      "cell_type": "markdown",
      "metadata": {
        "id": "6JT0Jw1F4rU9"
      },
      "source": [
        "# Tuning again with more narrower values to get the sweet spot"
      ]
    },
    {
      "cell_type": "code",
      "execution_count": null,
      "metadata": {
        "id": "bYNNytkU4rU9",
        "trusted": true
      },
      "outputs": [],
      "source": [
        "\n",
        "def objective(trial):\n",
        "\n",
        "    param = {\n",
        "#                 \"n_estimators\" : trial.suggest_int('n_estimators', 0, 500),\n",
        "                'max_depth':trial.suggest_int('max_depth',4,4),\n",
        "                'reg_alpha':trial.suggest_uniform('reg_alpha',0,2),\n",
        "                'reg_lambda':trial.suggest_uniform('reg_lambda',0.5,1),\n",
        "                'min_child_weight':trial.suggest_int('min_child_weight',1,1),\n",
        "                'gamma':trial.suggest_int('gamma',1,1),\n",
        "                'learning_rate':trial.suggest_loguniform('learning_rate',0.2,0.4),\n",
        "                'colsample_bytree':trial.suggest_uniform('colsample_bytree',0.4,0.6),\n",
        "                'subsample':trial.suggest_uniform('subsample',0.4,0.5),\n",
        "\n",
        "                'nthread' : -1\n",
        "            }\n",
        "    return(return_rmse(param)) # this will return the rmse score\n"
      ]
    },
    {
      "cell_type": "code",
      "execution_count": null,
      "metadata": {
        "id": "d8gZ5rWR4rU9",
        "trusted": true
      },
      "outputs": [],
      "source": [
        "# calling the optuna study\n",
        "study2 = optuna.create_study(direction='minimize',sampler=TPESampler())\n",
        "study2.optimize(objective, n_trials= 1050,show_progress_bar = True)"
      ]
    },
    {
      "cell_type": "code",
      "execution_count": null,
      "metadata": {
        "id": "I3LEa0aH4rU9",
        "trusted": true
      },
      "outputs": [],
      "source": [
        "optuna.visualization.plot_optimization_history(study2)"
      ]
    },
    {
      "cell_type": "code",
      "execution_count": null,
      "metadata": {
        "id": "iQ-zudh84rU9",
        "trusted": true
      },
      "outputs": [],
      "source": [
        "study2.best_params"
      ]
    },
    {
      "cell_type": "code",
      "execution_count": null,
      "metadata": {
        "id": "_Wa1ot804rU9",
        "trusted": true
      },
      "outputs": [],
      "source": [
        "params = {}\n",
        "print(f\"without tuning{return_rmse(params)}\")\n",
        "print(f\"with tuning{return_rmse(study2.best_params)}\")"
      ]
    },
    {
      "cell_type": "markdown",
      "metadata": {
        "id": "kwlR-Hcy4rU9"
      },
      "source": [
        "## visualising the overfitting and underfitting and finding the best estimators"
      ]
    },
    {
      "cell_type": "code",
      "execution_count": null,
      "metadata": {
        "id": "qQri40Bd4rU9",
        "trusted": true
      },
      "outputs": [],
      "source": [
        "from sklearn.model_selection import validation_curve\n",
        "param_range = np.arange(10, 250, 2)\n",
        "\n",
        "# train_scores, test_scores = validation_curve(xg_reg_base,\n",
        "#                                   X, y, param_name=\"n_estimators\", param_range=param_range,\n",
        "#                                   cv=cv_shuffle, scoring=\"neg_root_mean_squared_error\", n_jobs=-1)\n",
        "# train_mean = np.mean(train_scores, axis=1)\n",
        "# train_std = np.std(train_scores, axis=1)\n",
        "train_scores = [ ]\n",
        "test_scores = [ ]\n",
        "for i in param_range:\n",
        "    xg_reg = xgb.XGBRegressor(**study2.best_params,\n",
        "\n",
        "        n_estimators = i\n",
        "\n",
        ")\n",
        "    xg_reg.fit(X_train,y_train)\n",
        "    train_scores.append(np.sqrt(mean_squared_error(y_train,xg_reg.predict(X_train))))\n",
        "    test_scores.append(np.sqrt(mean_squared_error(y_test,xg_reg.predict(X_test))))\n",
        "\n",
        "import matplotlib.pyplot as plt\n",
        "\n",
        "plt.subplots(1, figsize=(7,7))\n",
        "plt.plot(param_range, train_scores, label=\"Training score\", color=\"black\")\n",
        "plt.plot(param_range, test_scores, label=\"Cross-validation score\", color=\"dimgrey\")\n",
        "\n",
        "# plt.fill_between(param_range, train_mean - train_std, train_mean + train_std, color=\"gray\")\n",
        "# plt.fill_between(param_range, test_mean - test_std, test_mean + test_std, color=\"gainsboro\")\n",
        "\n",
        "plt.title(\"Validation Curve With Random Forest\")\n",
        "plt.xlabel(\"Number Of Trees\")\n",
        "plt.ylabel(\"Error\")\n",
        "plt.tight_layout()\n",
        "plt.legend(loc=\"best\")\n",
        "plt.show()"
      ]
    },
    {
      "cell_type": "code",
      "execution_count": null,
      "metadata": {
        "id": "CcUiy_e54rU9",
        "trusted": true
      },
      "outputs": [],
      "source": [
        "##finding the best n_estimators with the early stopping\n",
        "\n",
        "model = xgb.train(study2.best_params , dtrain, num_boost_round = 600, evals = [(dtest, 'eval')],\n",
        "          early_stopping_rounds=20,verbose_eval = 1)\n",
        "\n"
      ]
    },
    {
      "cell_type": "markdown",
      "metadata": {
        "id": "sXtcLGc44rU9"
      },
      "source": [
        "### final model"
      ]
    },
    {
      "cell_type": "code",
      "execution_count": null,
      "metadata": {
        "id": "FhlaqWmK4rU9",
        "trusted": true
      },
      "outputs": [],
      "source": [
        "xgb_regressor = xgb.XGBRegressor(**study2.best_params, n_estimators = 71)\n",
        "xgb_regressor_base = xgb.XGBRegressor()"
      ]
    },
    {
      "cell_type": "code",
      "execution_count": null,
      "metadata": {
        "id": "kDb4VhnN4rU9",
        "trusted": true
      },
      "outputs": [],
      "source": [
        "xgb_regressor = xgb.XGBRegressor(**study2.best_params, n_estimators = 71)\n",
        "xgb_regressor_base.fit(X_train,y_train)\n",
        "score1 = xgb_regressor_base.score(X_test,y_test)\n",
        "xgb_regressor.fit(X_train,y_train)\n",
        "score2 = xgb_regressor.score(X_test,y_test)\n",
        "print(f\"R2 score withouth tuning:{score1} ,R2 score with tuning:{score2}\")"
      ]
    }
  ],
  "metadata": {
    "colab": {
      "include_colab_link": true,
      "name": "Optuna XGBoost hyperparameter ",
      "provenance": []
    },
    "kernelspec": {
      "display_name": "Python 3",
      "language": "python",
      "name": "python3"
    },
    "language_info": {
      "codemirror_mode": {
        "name": "ipython",
        "version": 3
      },
      "file_extension": ".py",
      "mimetype": "text/x-python",
      "name": "python",
      "nbconvert_exporter": "python",
      "pygments_lexer": "ipython3",
      "version": "3.6.4"
    }
  },
  "nbformat": 4,
  "nbformat_minor": 0
}
